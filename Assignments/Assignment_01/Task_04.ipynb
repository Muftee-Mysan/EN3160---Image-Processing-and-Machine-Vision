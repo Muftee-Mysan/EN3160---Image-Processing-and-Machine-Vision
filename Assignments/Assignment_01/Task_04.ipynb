{
 "cells": [
  {
   "cell_type": "code",
   "execution_count": 1,
   "id": "04cebcb2",
   "metadata": {},
   "outputs": [],
   "source": [
    "import cv2 as cv\n",
    "import matplotlib.pyplot as plt\n",
    "import numpy as np"
   ]
  },
  {
   "cell_type": "code",
   "execution_count": null,
   "id": "46420b01",
   "metadata": {},
   "outputs": [],
   "source": [
    "# Import Emma image\n",
    "spider = cv.imread('a1images/spider.png')\n",
    "assert spider is not None\n",
    "spider_hsv = cv.cvtColor(spider, cv.COLOR_BGR2HSV)\n",
    "spider_rgb = cv.cvtColor(spider, cv.COLOR_BGR2RGB)\n",
    "\n",
    "# Split into planes\n",
    "H, S, V = cv.split(spider_hsv)"
   ]
  }
 ],
 "metadata": {
  "kernelspec": {
   "display_name": "base",
   "language": "python",
   "name": "python3"
  },
  "language_info": {
   "codemirror_mode": {
    "name": "ipython",
    "version": 3
   },
   "file_extension": ".py",
   "mimetype": "text/x-python",
   "name": "python",
   "nbconvert_exporter": "python",
   "pygments_lexer": "ipython3",
   "version": "3.9.13"
  }
 },
 "nbformat": 4,
 "nbformat_minor": 5
}
